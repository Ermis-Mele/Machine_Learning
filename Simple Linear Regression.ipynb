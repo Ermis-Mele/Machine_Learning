{
 "cells": [
  {
   "cell_type": "code",
   "execution_count": 134,
   "id": "f19cac16",
   "metadata": {
    "ExecuteTime": {
     "end_time": "2022-05-21T21:09:49.263214Z",
     "start_time": "2022-05-21T21:09:49.255214Z"
    }
   },
   "outputs": [],
   "source": [
    "import numpy as np\n",
    "import pandas as pd \n",
    "import matplotlib.pyplot as plt\n",
    "from sklearn.linear_model import LinearRegression"
   ]
  },
  {
   "cell_type": "code",
   "execution_count": 47,
   "id": "f2b6b7f7",
   "metadata": {
    "ExecuteTime": {
     "end_time": "2022-05-21T19:36:13.229458Z",
     "start_time": "2022-05-21T19:36:13.186432Z"
    }
   },
   "outputs": [
    {
     "data": {
      "text/html": [
       "<div>\n",
       "<style scoped>\n",
       "    .dataframe tbody tr th:only-of-type {\n",
       "        vertical-align: middle;\n",
       "    }\n",
       "\n",
       "    .dataframe tbody tr th {\n",
       "        vertical-align: top;\n",
       "    }\n",
       "\n",
       "    .dataframe thead th {\n",
       "        text-align: right;\n",
       "    }\n",
       "</style>\n",
       "<table border=\"1\" class=\"dataframe\">\n",
       "  <thead>\n",
       "    <tr style=\"text-align: right;\">\n",
       "      <th></th>\n",
       "      <th>Unnamed: 0</th>\n",
       "      <th>year</th>\n",
       "      <th>violent</th>\n",
       "      <th>murder</th>\n",
       "      <th>robbery</th>\n",
       "      <th>prisoners</th>\n",
       "      <th>afam</th>\n",
       "      <th>cauc</th>\n",
       "      <th>male</th>\n",
       "      <th>population</th>\n",
       "      <th>income</th>\n",
       "      <th>density</th>\n",
       "      <th>state</th>\n",
       "      <th>law</th>\n",
       "    </tr>\n",
       "  </thead>\n",
       "  <tbody>\n",
       "    <tr>\n",
       "      <th>0</th>\n",
       "      <td>1</td>\n",
       "      <td>1977</td>\n",
       "      <td>414.4</td>\n",
       "      <td>14.2</td>\n",
       "      <td>96.8</td>\n",
       "      <td>83</td>\n",
       "      <td>8.384873</td>\n",
       "      <td>55.12291</td>\n",
       "      <td>18.17441</td>\n",
       "      <td>3.780403</td>\n",
       "      <td>9563.148</td>\n",
       "      <td>0.074552</td>\n",
       "      <td>Alabama</td>\n",
       "      <td>no</td>\n",
       "    </tr>\n",
       "    <tr>\n",
       "      <th>1</th>\n",
       "      <td>2</td>\n",
       "      <td>1978</td>\n",
       "      <td>419.1</td>\n",
       "      <td>13.3</td>\n",
       "      <td>99.1</td>\n",
       "      <td>94</td>\n",
       "      <td>8.352101</td>\n",
       "      <td>55.14367</td>\n",
       "      <td>17.99408</td>\n",
       "      <td>3.831838</td>\n",
       "      <td>9932.000</td>\n",
       "      <td>0.075567</td>\n",
       "      <td>Alabama</td>\n",
       "      <td>no</td>\n",
       "    </tr>\n",
       "    <tr>\n",
       "      <th>2</th>\n",
       "      <td>3</td>\n",
       "      <td>1979</td>\n",
       "      <td>413.3</td>\n",
       "      <td>13.2</td>\n",
       "      <td>109.5</td>\n",
       "      <td>144</td>\n",
       "      <td>8.329575</td>\n",
       "      <td>55.13586</td>\n",
       "      <td>17.83934</td>\n",
       "      <td>3.866248</td>\n",
       "      <td>9877.028</td>\n",
       "      <td>0.076245</td>\n",
       "      <td>Alabama</td>\n",
       "      <td>no</td>\n",
       "    </tr>\n",
       "    <tr>\n",
       "      <th>3</th>\n",
       "      <td>4</td>\n",
       "      <td>1980</td>\n",
       "      <td>448.5</td>\n",
       "      <td>13.2</td>\n",
       "      <td>132.1</td>\n",
       "      <td>141</td>\n",
       "      <td>8.408386</td>\n",
       "      <td>54.91259</td>\n",
       "      <td>17.73420</td>\n",
       "      <td>3.900368</td>\n",
       "      <td>9541.428</td>\n",
       "      <td>0.076829</td>\n",
       "      <td>Alabama</td>\n",
       "      <td>no</td>\n",
       "    </tr>\n",
       "    <tr>\n",
       "      <th>4</th>\n",
       "      <td>5</td>\n",
       "      <td>1981</td>\n",
       "      <td>470.5</td>\n",
       "      <td>11.9</td>\n",
       "      <td>126.5</td>\n",
       "      <td>149</td>\n",
       "      <td>8.483435</td>\n",
       "      <td>54.92513</td>\n",
       "      <td>17.67372</td>\n",
       "      <td>3.918531</td>\n",
       "      <td>9548.351</td>\n",
       "      <td>0.077187</td>\n",
       "      <td>Alabama</td>\n",
       "      <td>no</td>\n",
       "    </tr>\n",
       "    <tr>\n",
       "      <th>...</th>\n",
       "      <td>...</td>\n",
       "      <td>...</td>\n",
       "      <td>...</td>\n",
       "      <td>...</td>\n",
       "      <td>...</td>\n",
       "      <td>...</td>\n",
       "      <td>...</td>\n",
       "      <td>...</td>\n",
       "      <td>...</td>\n",
       "      <td>...</td>\n",
       "      <td>...</td>\n",
       "      <td>...</td>\n",
       "      <td>...</td>\n",
       "      <td>...</td>\n",
       "    </tr>\n",
       "    <tr>\n",
       "      <th>1168</th>\n",
       "      <td>1169</td>\n",
       "      <td>1995</td>\n",
       "      <td>254.2</td>\n",
       "      <td>2.1</td>\n",
       "      <td>17.9</td>\n",
       "      <td>254</td>\n",
       "      <td>1.485849</td>\n",
       "      <td>73.71621</td>\n",
       "      <td>15.37098</td>\n",
       "      <td>0.478447</td>\n",
       "      <td>14070.160</td>\n",
       "      <td>0.004927</td>\n",
       "      <td>Wyoming</td>\n",
       "      <td>yes</td>\n",
       "    </tr>\n",
       "    <tr>\n",
       "      <th>1169</th>\n",
       "      <td>1170</td>\n",
       "      <td>1996</td>\n",
       "      <td>249.7</td>\n",
       "      <td>3.3</td>\n",
       "      <td>20.4</td>\n",
       "      <td>289</td>\n",
       "      <td>1.521814</td>\n",
       "      <td>73.85796</td>\n",
       "      <td>15.44601</td>\n",
       "      <td>0.480085</td>\n",
       "      <td>14032.230</td>\n",
       "      <td>0.004944</td>\n",
       "      <td>Wyoming</td>\n",
       "      <td>yes</td>\n",
       "    </tr>\n",
       "    <tr>\n",
       "      <th>1170</th>\n",
       "      <td>1171</td>\n",
       "      <td>1997</td>\n",
       "      <td>255.2</td>\n",
       "      <td>3.5</td>\n",
       "      <td>17.7</td>\n",
       "      <td>310</td>\n",
       "      <td>1.527818</td>\n",
       "      <td>73.92731</td>\n",
       "      <td>15.49400</td>\n",
       "      <td>0.480031</td>\n",
       "      <td>14790.980</td>\n",
       "      <td>0.004943</td>\n",
       "      <td>Wyoming</td>\n",
       "      <td>yes</td>\n",
       "    </tr>\n",
       "    <tr>\n",
       "      <th>1171</th>\n",
       "      <td>1172</td>\n",
       "      <td>1998</td>\n",
       "      <td>247.6</td>\n",
       "      <td>4.8</td>\n",
       "      <td>16.2</td>\n",
       "      <td>326</td>\n",
       "      <td>1.558396</td>\n",
       "      <td>73.98515</td>\n",
       "      <td>15.51021</td>\n",
       "      <td>0.480045</td>\n",
       "      <td>15225.510</td>\n",
       "      <td>0.004944</td>\n",
       "      <td>Wyoming</td>\n",
       "      <td>yes</td>\n",
       "    </tr>\n",
       "    <tr>\n",
       "      <th>1172</th>\n",
       "      <td>1173</td>\n",
       "      <td>1999</td>\n",
       "      <td>232.3</td>\n",
       "      <td>2.3</td>\n",
       "      <td>15.4</td>\n",
       "      <td>327</td>\n",
       "      <td>1.613004</td>\n",
       "      <td>74.04952</td>\n",
       "      <td>15.48013</td>\n",
       "      <td>0.479602</td>\n",
       "      <td>15765.070</td>\n",
       "      <td>0.004939</td>\n",
       "      <td>Wyoming</td>\n",
       "      <td>yes</td>\n",
       "    </tr>\n",
       "  </tbody>\n",
       "</table>\n",
       "<p>1173 rows × 14 columns</p>\n",
       "</div>"
      ],
      "text/plain": [
       "      Unnamed: 0  year  violent  murder  robbery  prisoners      afam  \\\n",
       "0              1  1977    414.4    14.2     96.8         83  8.384873   \n",
       "1              2  1978    419.1    13.3     99.1         94  8.352101   \n",
       "2              3  1979    413.3    13.2    109.5        144  8.329575   \n",
       "3              4  1980    448.5    13.2    132.1        141  8.408386   \n",
       "4              5  1981    470.5    11.9    126.5        149  8.483435   \n",
       "...          ...   ...      ...     ...      ...        ...       ...   \n",
       "1168        1169  1995    254.2     2.1     17.9        254  1.485849   \n",
       "1169        1170  1996    249.7     3.3     20.4        289  1.521814   \n",
       "1170        1171  1997    255.2     3.5     17.7        310  1.527818   \n",
       "1171        1172  1998    247.6     4.8     16.2        326  1.558396   \n",
       "1172        1173  1999    232.3     2.3     15.4        327  1.613004   \n",
       "\n",
       "          cauc      male  population     income   density    state  law  \n",
       "0     55.12291  18.17441    3.780403   9563.148  0.074552  Alabama   no  \n",
       "1     55.14367  17.99408    3.831838   9932.000  0.075567  Alabama   no  \n",
       "2     55.13586  17.83934    3.866248   9877.028  0.076245  Alabama   no  \n",
       "3     54.91259  17.73420    3.900368   9541.428  0.076829  Alabama   no  \n",
       "4     54.92513  17.67372    3.918531   9548.351  0.077187  Alabama   no  \n",
       "...        ...       ...         ...        ...       ...      ...  ...  \n",
       "1168  73.71621  15.37098    0.478447  14070.160  0.004927  Wyoming  yes  \n",
       "1169  73.85796  15.44601    0.480085  14032.230  0.004944  Wyoming  yes  \n",
       "1170  73.92731  15.49400    0.480031  14790.980  0.004943  Wyoming  yes  \n",
       "1171  73.98515  15.51021    0.480045  15225.510  0.004944  Wyoming  yes  \n",
       "1172  74.04952  15.48013    0.479602  15765.070  0.004939  Wyoming  yes  \n",
       "\n",
       "[1173 rows x 14 columns]"
      ]
     },
     "execution_count": 47,
     "metadata": {},
     "output_type": "execute_result"
    }
   ],
   "source": [
    "df = pd.read_csv('Guns.csv')\n",
    "df"
   ]
  },
  {
   "cell_type": "code",
   "execution_count": 88,
   "id": "410ecfd2",
   "metadata": {
    "ExecuteTime": {
     "end_time": "2022-05-21T20:06:10.279786Z",
     "start_time": "2022-05-21T20:06:10.052787Z"
    }
   },
   "outputs": [
    {
     "data": {
      "text/plain": [
       "<matplotlib.collections.PathCollection at 0x185a5cece50>"
      ]
     },
     "execution_count": 88,
     "metadata": {},
     "output_type": "execute_result"
    },
    {
     "data": {
      "image/png": "[encoded data removed]",
      "text/plain": [
       "<Figure size 432x288 with 1 Axes>"
      ]
     },
     "metadata": {
      "needs_background": "light"
     },
     "output_type": "display_data"
    }
   ],
   "source": [
    "vio = df['violent']\n",
    "mur = df['murder']\n",
    "\n",
    "plt.scatter(vio, mur)\n",
    "plt.xlabel('violent')\n",
    "plt.ylabel('murder')\n",
    "\n",
    "plt.scatter(vio, get_predictions(best_model, vio_np))"
   ]
  },
  {
   "cell_type": "code",
   "execution_count": 49,
   "id": "06528d59",
   "metadata": {
    "ExecuteTime": {
     "end_time": "2022-05-21T19:36:13.968375Z",
     "start_time": "2022-05-21T19:36:13.964375Z"
    }
   },
   "outputs": [],
   "source": [
    "vio_np = vio.to_numpy()\n",
    "mur_np = mur.to_numpy()"
   ]
  },
  {
   "cell_type": "code",
   "execution_count": 50,
   "id": "21e80a7f",
   "metadata": {
    "ExecuteTime": {
     "end_time": "2022-05-21T19:36:14.515092Z",
     "start_time": "2022-05-21T19:36:14.503095Z"
    }
   },
   "outputs": [
    {
     "data": {
      "text/plain": [
       "((1173,), (1173,))"
      ]
     },
     "execution_count": 50,
     "metadata": {},
     "output_type": "execute_result"
    }
   ],
   "source": [
    "vio_np.shape, mur_np.shape"
   ]
  },
  {
   "cell_type": "code",
   "execution_count": 51,
   "id": "2f1e7816",
   "metadata": {
    "ExecuteTime": {
     "end_time": "2022-05-21T19:36:15.072759Z",
     "start_time": "2022-05-21T19:36:15.049776Z"
    }
   },
   "outputs": [
    {
     "data": {
      "text/plain": [
       "(1173,)"
      ]
     },
     "execution_count": 51,
     "metadata": {},
     "output_type": "execute_result"
    }
   ],
   "source": [
    "# sklearn_model = LinearRegression().fit(vio_np.reshape((1173, 1)), vio_np) \n",
    "# sklearn_mur_predictions = sklearn_model.predict(vio_np.reshape((1173, 1)))\n",
    "# sklearn_mur_predictions.shape"
   ]
  },
  {
   "cell_type": "code",
   "execution_count": 99,
   "id": "ed00cba4",
   "metadata": {
    "ExecuteTime": {
     "end_time": "2022-05-21T20:08:46.244539Z",
     "start_time": "2022-05-21T20:08:46.209529Z"
    }
   },
   "outputs": [
    {
     "data": {
      "text/html": [
       "<div>\n",
       "<style scoped>\n",
       "    .dataframe tbody tr th:only-of-type {\n",
       "        vertical-align: middle;\n",
       "    }\n",
       "\n",
       "    .dataframe tbody tr th {\n",
       "        vertical-align: top;\n",
       "    }\n",
       "\n",
       "    .dataframe thead th {\n",
       "        text-align: right;\n",
       "    }\n",
       "</style>\n",
       "<table border=\"1\" class=\"dataframe\">\n",
       "  <thead>\n",
       "    <tr style=\"text-align: right;\">\n",
       "      <th></th>\n",
       "      <th>violent</th>\n",
       "      <th>murder</th>\n",
       "      <th>sklearn_mur_predictions</th>\n",
       "      <th>Our Model Predictions</th>\n",
       "    </tr>\n",
       "  </thead>\n",
       "  <tbody>\n",
       "    <tr>\n",
       "      <th>0</th>\n",
       "      <td>414.4</td>\n",
       "      <td>14.2</td>\n",
       "      <td>414.4</td>\n",
       "      <td>7.665132</td>\n",
       "    </tr>\n",
       "    <tr>\n",
       "      <th>1</th>\n",
       "      <td>419.1</td>\n",
       "      <td>13.3</td>\n",
       "      <td>419.1</td>\n",
       "      <td>7.665132</td>\n",
       "    </tr>\n",
       "    <tr>\n",
       "      <th>2</th>\n",
       "      <td>413.3</td>\n",
       "      <td>13.2</td>\n",
       "      <td>413.3</td>\n",
       "      <td>7.665132</td>\n",
       "    </tr>\n",
       "    <tr>\n",
       "      <th>3</th>\n",
       "      <td>448.5</td>\n",
       "      <td>13.2</td>\n",
       "      <td>448.5</td>\n",
       "      <td>7.665132</td>\n",
       "    </tr>\n",
       "    <tr>\n",
       "      <th>4</th>\n",
       "      <td>470.5</td>\n",
       "      <td>11.9</td>\n",
       "      <td>470.5</td>\n",
       "      <td>7.665132</td>\n",
       "    </tr>\n",
       "    <tr>\n",
       "      <th>...</th>\n",
       "      <td>...</td>\n",
       "      <td>...</td>\n",
       "      <td>...</td>\n",
       "      <td>...</td>\n",
       "    </tr>\n",
       "    <tr>\n",
       "      <th>1168</th>\n",
       "      <td>254.2</td>\n",
       "      <td>2.1</td>\n",
       "      <td>254.2</td>\n",
       "      <td>7.665132</td>\n",
       "    </tr>\n",
       "    <tr>\n",
       "      <th>1169</th>\n",
       "      <td>249.7</td>\n",
       "      <td>3.3</td>\n",
       "      <td>249.7</td>\n",
       "      <td>7.665132</td>\n",
       "    </tr>\n",
       "    <tr>\n",
       "      <th>1170</th>\n",
       "      <td>255.2</td>\n",
       "      <td>3.5</td>\n",
       "      <td>255.2</td>\n",
       "      <td>7.665132</td>\n",
       "    </tr>\n",
       "    <tr>\n",
       "      <th>1171</th>\n",
       "      <td>247.6</td>\n",
       "      <td>4.8</td>\n",
       "      <td>247.6</td>\n",
       "      <td>7.665132</td>\n",
       "    </tr>\n",
       "    <tr>\n",
       "      <th>1172</th>\n",
       "      <td>232.3</td>\n",
       "      <td>2.3</td>\n",
       "      <td>232.3</td>\n",
       "      <td>7.665132</td>\n",
       "    </tr>\n",
       "  </tbody>\n",
       "</table>\n",
       "<p>1173 rows × 4 columns</p>\n",
       "</div>"
      ],
      "text/plain": [
       "      violent  murder  sklearn_mur_predictions  Our Model Predictions\n",
       "0       414.4    14.2                    414.4               7.665132\n",
       "1       419.1    13.3                    419.1               7.665132\n",
       "2       413.3    13.2                    413.3               7.665132\n",
       "3       448.5    13.2                    448.5               7.665132\n",
       "4       470.5    11.9                    470.5               7.665132\n",
       "...       ...     ...                      ...                    ...\n",
       "1168    254.2     2.1                    254.2               7.665132\n",
       "1169    249.7     3.3                    249.7               7.665132\n",
       "1170    255.2     3.5                    255.2               7.665132\n",
       "1171    247.6     4.8                    247.6               7.665132\n",
       "1172    232.3     2.3                    232.3               7.665132\n",
       "\n",
       "[1173 rows x 4 columns]"
      ]
     },
     "execution_count": 99,
     "metadata": {},
     "output_type": "execute_result"
    }
   ],
   "source": [
    "# predictions_df = pd.DataFrame({'violent':vio,\n",
    "#                               'murder':mur,\n",
    "#                               'sklearn_mur_predictions':sklearn_mur_predictions})\n",
    "\n",
    "# predictions_df['Our Model Predictions'] = get_predictions(best_model, vio_np)\n",
    "# predictions_df"
   ]
  },
  {
   "cell_type": "code",
   "execution_count": 63,
   "id": "a64c78c1",
   "metadata": {
    "ExecuteTime": {
     "end_time": "2022-05-21T19:41:56.975414Z",
     "start_time": "2022-05-21T19:41:56.966416Z"
    }
   },
   "outputs": [],
   "source": [
    "def get_predictions(model, x):\n",
    "    \n",
    "    alpha_hat = model['alpha_hat']\n",
    "    beta_hat = model['beta_hat']\n",
    "    \n",
    "    return alpha_hat + beta_hat * x"
   ]
  },
  {
   "cell_type": "code",
   "execution_count": 90,
   "id": "1318700e",
   "metadata": {
    "ExecuteTime": {
     "end_time": "2022-05-21T20:07:06.986743Z",
     "start_time": "2022-05-21T20:07:06.974441Z"
    }
   },
   "outputs": [
    {
     "data": {
      "text/plain": [
       "array([2, 3, 4])"
      ]
     },
     "execution_count": 90,
     "metadata": {},
     "output_type": "execute_result"
    }
   ],
   "source": [
    "# test_model = {'alpha_hat':1, 'beta_hat':1}\n",
    "# test_x = np.array([1, 2, 3])\n",
    "# get_predictions(test_model, test_x)"
   ]
  },
  {
   "cell_type": "code",
   "execution_count": 91,
   "id": "c089362e",
   "metadata": {
    "ExecuteTime": {
     "end_time": "2022-05-21T20:07:07.610278Z",
     "start_time": "2022-05-21T20:07:07.602284Z"
    }
   },
   "outputs": [],
   "source": [
    "def mean_squared_error(y, y_predictions):\n",
    "    n=len(y)\n",
    "    return np.sum(np.square(y - y_predictions)) / n\n"
   ]
  },
  {
   "cell_type": "code",
   "execution_count": 92,
   "id": "1e89cd6a",
   "metadata": {
    "ExecuteTime": {
     "end_time": "2022-05-21T20:07:07.812628Z",
     "start_time": "2022-05-21T20:07:07.800573Z"
    }
   },
   "outputs": [],
   "source": [
    "def mean_absolute_error(y, y_predictions):\n",
    "    n=len(y)\n",
    "    return np.sum(np.abs(y - y_predictions)) / n"
   ]
  },
  {
   "cell_type": "code",
   "execution_count": 93,
   "id": "8e783cab",
   "metadata": {
    "ExecuteTime": {
     "end_time": "2022-05-21T20:07:07.983675Z",
     "start_time": "2022-05-21T20:07:07.975694Z"
    }
   },
   "outputs": [
    {
     "data": {
      "text/plain": [
       "353971.71401534526"
      ]
     },
     "execution_count": 93,
     "metadata": {},
     "output_type": "execute_result"
    }
   ],
   "source": [
    "mse1 = mean_squared_error(get_predictions(test_model, vio_np), mur)\n",
    "mse1"
   ]
  },
  {
   "cell_type": "code",
   "execution_count": 94,
   "id": "ef662f50",
   "metadata": {
    "ExecuteTime": {
     "end_time": "2022-05-21T20:07:08.153006Z",
     "start_time": "2022-05-21T20:07:08.141006Z"
    }
   },
   "outputs": [
    {
     "data": {
      "text/plain": [
       "496.40954816709285"
      ]
     },
     "execution_count": 94,
     "metadata": {},
     "output_type": "execute_result"
    }
   ],
   "source": [
    "mae1 = mean_absolute_error(get_predictions(test_model, vio_np), mur)\n",
    "mae1"
   ]
  },
  {
   "cell_type": "code",
   "execution_count": 95,
   "id": "fec9ce97",
   "metadata": {
    "ExecuteTime": {
     "end_time": "2022-05-21T20:07:08.339170Z",
     "start_time": "2022-05-21T20:07:08.328146Z"
    }
   },
   "outputs": [],
   "source": [
    "# def get_best_model(x, y):\n",
    "#     x_bar = np.average(x)\n",
    "#     y_bar = np.average(y)\n",
    "    \n",
    "#     top = np.sum((x - x_bar)-(y - y_bar))\n",
    "#     bot = np.sum((x - x_bar)**2)\n",
    "#     beta_hat = top / bot\n",
    "    \n",
    "#     alpha_hat = y_bar - beta_hat * x_bar\n",
    "    \n",
    "#     model = {'alpha_hat':alpha_hat, 'beta_hat':beta_hat}\n",
    "#     return model"
   ]
  },
  {
   "cell_type": "code",
   "execution_count": 96,
   "id": "e9519be3",
   "metadata": {
    "ExecuteTime": {
     "end_time": "2022-05-21T20:07:08.728561Z",
     "start_time": "2022-05-21T20:07:08.711545Z"
    }
   },
   "outputs": [
    {
     "data": {
      "text/plain": [
       "{'alpha_hat': 7.665132139812448, 'beta_hat': 1.6667494026262782e-19}"
      ]
     },
     "execution_count": 96,
     "metadata": {},
     "output_type": "execute_result"
    }
   ],
   "source": [
    "best_model = get_best_model(vio_np, mur_np)\n",
    "best_model"
   ]
  },
  {
   "cell_type": "code",
   "execution_count": 97,
   "id": "d5bb2f6b",
   "metadata": {
    "ExecuteTime": {
     "end_time": "2022-05-21T20:07:09.104913Z",
     "start_time": "2022-05-21T20:07:08.935900Z"
    }
   },
   "outputs": [
    {
     "data": {
      "text/plain": [
       "<matplotlib.collections.PathCollection at 0x185aa3d9250>"
      ]
     },
     "execution_count": 97,
     "metadata": {},
     "output_type": "execute_result"
    },
    {
     "data": {
      "image/png": "[encoded data removed]",
      "text/plain": [
       "<Figure size 432x288 with 1 Axes>"
      ]
     },
     "metadata": {
      "needs_background": "light"
     },
     "output_type": "display_data"
    }
   ],
   "source": [
    "vio = df['violent']\n",
    "mur = df['murder']\n",
    "\n",
    "plt.scatter(vio, mur)\n",
    "plt.xlabel('violent')\n",
    "plt.ylabel('murder')\n",
    "\n",
    "plt.scatter(vio, get_predictions(best_model, vio_np))"
   ]
  },
  {
   "cell_type": "code",
   "execution_count": 101,
   "id": "6f1c1c36",
   "metadata": {
    "ExecuteTime": {
     "end_time": "2022-05-21T20:11:46.518268Z",
     "start_time": "2022-05-21T20:11:46.506268Z"
    }
   },
   "outputs": [
    {
     "data": {
      "text/plain": [
       "495.40954816709296"
      ]
     },
     "execution_count": 101,
     "metadata": {},
     "output_type": "execute_result"
    }
   ],
   "source": [
    "mean_absolute_error(predictions_df['violent'],\n",
    "                   predictions_df['Our Model Predictions'])"
   ]
  },
  {
   "cell_type": "markdown",
   "id": "cd358111",
   "metadata": {},
   "source": [
    "## Multiple Linear Regression"
   ]
  },
  {
   "cell_type": "code",
   "execution_count": 124,
   "id": "64dfe897",
   "metadata": {
    "ExecuteTime": {
     "end_time": "2022-05-21T21:09:39.814228Z",
     "start_time": "2022-05-21T21:09:39.742242Z"
    }
   },
   "outputs": [
    {
     "data": {
      "text/html": [
       "<div>\n",
       "<style scoped>\n",
       "    .dataframe tbody tr th:only-of-type {\n",
       "        vertical-align: middle;\n",
       "    }\n",
       "\n",
       "    .dataframe tbody tr th {\n",
       "        vertical-align: top;\n",
       "    }\n",
       "\n",
       "    .dataframe thead th {\n",
       "        text-align: right;\n",
       "    }\n",
       "</style>\n",
       "<table border=\"1\" class=\"dataframe\">\n",
       "  <thead>\n",
       "    <tr style=\"text-align: right;\">\n",
       "      <th></th>\n",
       "      <th>longitude</th>\n",
       "      <th>latitude</th>\n",
       "      <th>housing_median_age</th>\n",
       "      <th>total_rooms</th>\n",
       "      <th>total_bedrooms</th>\n",
       "      <th>population</th>\n",
       "      <th>households</th>\n",
       "      <th>median_income</th>\n",
       "      <th>median_house_value</th>\n",
       "      <th>ocean_proximity</th>\n",
       "    </tr>\n",
       "  </thead>\n",
       "  <tbody>\n",
       "    <tr>\n",
       "      <th>0</th>\n",
       "      <td>-122.23</td>\n",
       "      <td>37.88</td>\n",
       "      <td>41.0</td>\n",
       "      <td>880.0</td>\n",
       "      <td>129.0</td>\n",
       "      <td>322.0</td>\n",
       "      <td>126.0</td>\n",
       "      <td>8.3252</td>\n",
       "      <td>452600.0</td>\n",
       "      <td>NEAR BAY</td>\n",
       "    </tr>\n",
       "    <tr>\n",
       "      <th>1</th>\n",
       "      <td>-122.22</td>\n",
       "      <td>37.86</td>\n",
       "      <td>21.0</td>\n",
       "      <td>7099.0</td>\n",
       "      <td>1106.0</td>\n",
       "      <td>2401.0</td>\n",
       "      <td>1138.0</td>\n",
       "      <td>8.3014</td>\n",
       "      <td>358500.0</td>\n",
       "      <td>NEAR BAY</td>\n",
       "    </tr>\n",
       "    <tr>\n",
       "      <th>2</th>\n",
       "      <td>-122.24</td>\n",
       "      <td>37.85</td>\n",
       "      <td>52.0</td>\n",
       "      <td>1467.0</td>\n",
       "      <td>190.0</td>\n",
       "      <td>496.0</td>\n",
       "      <td>177.0</td>\n",
       "      <td>7.2574</td>\n",
       "      <td>352100.0</td>\n",
       "      <td>NEAR BAY</td>\n",
       "    </tr>\n",
       "    <tr>\n",
       "      <th>3</th>\n",
       "      <td>-122.25</td>\n",
       "      <td>37.85</td>\n",
       "      <td>52.0</td>\n",
       "      <td>1274.0</td>\n",
       "      <td>235.0</td>\n",
       "      <td>558.0</td>\n",
       "      <td>219.0</td>\n",
       "      <td>5.6431</td>\n",
       "      <td>341300.0</td>\n",
       "      <td>NEAR BAY</td>\n",
       "    </tr>\n",
       "    <tr>\n",
       "      <th>4</th>\n",
       "      <td>-122.25</td>\n",
       "      <td>37.85</td>\n",
       "      <td>52.0</td>\n",
       "      <td>1627.0</td>\n",
       "      <td>280.0</td>\n",
       "      <td>565.0</td>\n",
       "      <td>259.0</td>\n",
       "      <td>3.8462</td>\n",
       "      <td>342200.0</td>\n",
       "      <td>NEAR BAY</td>\n",
       "    </tr>\n",
       "  </tbody>\n",
       "</table>\n",
       "</div>"
      ],
      "text/plain": [
       "   longitude  latitude  housing_median_age  total_rooms  total_bedrooms  \\\n",
       "0    -122.23     37.88                41.0        880.0           129.0   \n",
       "1    -122.22     37.86                21.0       7099.0          1106.0   \n",
       "2    -122.24     37.85                52.0       1467.0           190.0   \n",
       "3    -122.25     37.85                52.0       1274.0           235.0   \n",
       "4    -122.25     37.85                52.0       1627.0           280.0   \n",
       "\n",
       "   population  households  median_income  median_house_value ocean_proximity  \n",
       "0       322.0       126.0         8.3252            452600.0        NEAR BAY  \n",
       "1      2401.0      1138.0         8.3014            358500.0        NEAR BAY  \n",
       "2       496.0       177.0         7.2574            352100.0        NEAR BAY  \n",
       "3       558.0       219.0         5.6431            341300.0        NEAR BAY  \n",
       "4       565.0       259.0         3.8462            342200.0        NEAR BAY  "
      ]
     },
     "execution_count": 124,
     "metadata": {},
     "output_type": "execute_result"
    }
   ],
   "source": [
    "df = pd.read_csv('housing.csv')\n",
    "df.head()"
   ]
  },
  {
   "cell_type": "code",
   "execution_count": 125,
   "id": "1f29ae63",
   "metadata": {
    "ExecuteTime": {
     "end_time": "2022-05-21T21:09:39.973871Z",
     "start_time": "2022-05-21T21:09:39.941878Z"
    }
   },
   "outputs": [
    {
     "data": {
      "text/plain": [
       "longitude             0.069608\n",
       "latitude             -0.066983\n",
       "housing_median_age   -0.320451\n",
       "total_rooms           0.930380\n",
       "total_bedrooms        1.000000\n",
       "population            0.877747\n",
       "households            0.979728\n",
       "median_income        -0.007723\n",
       "median_house_value    0.049686\n",
       "Name: total_bedrooms, dtype: float64"
      ]
     },
     "execution_count": 125,
     "metadata": {},
     "output_type": "execute_result"
    }
   ],
   "source": [
    "df.corr()['total_bedrooms']"
   ]
  },
  {
   "cell_type": "code",
   "execution_count": 126,
   "id": "b47cb237",
   "metadata": {
    "ExecuteTime": {
     "end_time": "2022-05-21T21:09:40.195460Z",
     "start_time": "2022-05-21T21:09:40.155550Z"
    }
   },
   "outputs": [
    {
     "data": {
      "text/html": [
       "<div>\n",
       "<style scoped>\n",
       "    .dataframe tbody tr th:only-of-type {\n",
       "        vertical-align: middle;\n",
       "    }\n",
       "\n",
       "    .dataframe tbody tr th {\n",
       "        vertical-align: top;\n",
       "    }\n",
       "\n",
       "    .dataframe thead th {\n",
       "        text-align: right;\n",
       "    }\n",
       "</style>\n",
       "<table border=\"1\" class=\"dataframe\">\n",
       "  <thead>\n",
       "    <tr style=\"text-align: right;\">\n",
       "      <th></th>\n",
       "      <th>total_rooms</th>\n",
       "      <th>population</th>\n",
       "      <th>households</th>\n",
       "      <th>ocean_proximity</th>\n",
       "      <th>bedrooms</th>\n",
       "    </tr>\n",
       "  </thead>\n",
       "  <tbody>\n",
       "    <tr>\n",
       "      <th>0</th>\n",
       "      <td>880.0</td>\n",
       "      <td>322.0</td>\n",
       "      <td>126.0</td>\n",
       "      <td>NEAR BAY</td>\n",
       "      <td>129.0</td>\n",
       "    </tr>\n",
       "    <tr>\n",
       "      <th>1</th>\n",
       "      <td>7099.0</td>\n",
       "      <td>2401.0</td>\n",
       "      <td>1138.0</td>\n",
       "      <td>NEAR BAY</td>\n",
       "      <td>1106.0</td>\n",
       "    </tr>\n",
       "    <tr>\n",
       "      <th>2</th>\n",
       "      <td>1467.0</td>\n",
       "      <td>496.0</td>\n",
       "      <td>177.0</td>\n",
       "      <td>NEAR BAY</td>\n",
       "      <td>190.0</td>\n",
       "    </tr>\n",
       "    <tr>\n",
       "      <th>3</th>\n",
       "      <td>1274.0</td>\n",
       "      <td>558.0</td>\n",
       "      <td>219.0</td>\n",
       "      <td>NEAR BAY</td>\n",
       "      <td>235.0</td>\n",
       "    </tr>\n",
       "    <tr>\n",
       "      <th>4</th>\n",
       "      <td>1627.0</td>\n",
       "      <td>565.0</td>\n",
       "      <td>259.0</td>\n",
       "      <td>NEAR BAY</td>\n",
       "      <td>280.0</td>\n",
       "    </tr>\n",
       "    <tr>\n",
       "      <th>...</th>\n",
       "      <td>...</td>\n",
       "      <td>...</td>\n",
       "      <td>...</td>\n",
       "      <td>...</td>\n",
       "      <td>...</td>\n",
       "    </tr>\n",
       "    <tr>\n",
       "      <th>20635</th>\n",
       "      <td>1665.0</td>\n",
       "      <td>845.0</td>\n",
       "      <td>330.0</td>\n",
       "      <td>INLAND</td>\n",
       "      <td>374.0</td>\n",
       "    </tr>\n",
       "    <tr>\n",
       "      <th>20636</th>\n",
       "      <td>697.0</td>\n",
       "      <td>356.0</td>\n",
       "      <td>114.0</td>\n",
       "      <td>INLAND</td>\n",
       "      <td>150.0</td>\n",
       "    </tr>\n",
       "    <tr>\n",
       "      <th>20637</th>\n",
       "      <td>2254.0</td>\n",
       "      <td>1007.0</td>\n",
       "      <td>433.0</td>\n",
       "      <td>INLAND</td>\n",
       "      <td>485.0</td>\n",
       "    </tr>\n",
       "    <tr>\n",
       "      <th>20638</th>\n",
       "      <td>1860.0</td>\n",
       "      <td>741.0</td>\n",
       "      <td>349.0</td>\n",
       "      <td>INLAND</td>\n",
       "      <td>409.0</td>\n",
       "    </tr>\n",
       "    <tr>\n",
       "      <th>20639</th>\n",
       "      <td>2785.0</td>\n",
       "      <td>1387.0</td>\n",
       "      <td>530.0</td>\n",
       "      <td>INLAND</td>\n",
       "      <td>616.0</td>\n",
       "    </tr>\n",
       "  </tbody>\n",
       "</table>\n",
       "<p>20640 rows × 5 columns</p>\n",
       "</div>"
      ],
      "text/plain": [
       "       total_rooms  population  households ocean_proximity  bedrooms\n",
       "0            880.0       322.0       126.0        NEAR BAY     129.0\n",
       "1           7099.0      2401.0      1138.0        NEAR BAY    1106.0\n",
       "2           1467.0       496.0       177.0        NEAR BAY     190.0\n",
       "3           1274.0       558.0       219.0        NEAR BAY     235.0\n",
       "4           1627.0       565.0       259.0        NEAR BAY     280.0\n",
       "...            ...         ...         ...             ...       ...\n",
       "20635       1665.0       845.0       330.0          INLAND     374.0\n",
       "20636        697.0       356.0       114.0          INLAND     150.0\n",
       "20637       2254.0      1007.0       433.0          INLAND     485.0\n",
       "20638       1860.0       741.0       349.0          INLAND     409.0\n",
       "20639       2785.0      1387.0       530.0          INLAND     616.0\n",
       "\n",
       "[20640 rows x 5 columns]"
      ]
     },
     "execution_count": 126,
     "metadata": {},
     "output_type": "execute_result"
    }
   ],
   "source": [
    "bedrooms = df['total_bedrooms']\n",
    "df = df.drop(['latitude', 'housing_median_age', 'total_bedrooms', 'longitude', 'median_income', 'median_house_value'], axis=1)\n",
    "df['bedrooms'] = bedrooms\n",
    "df"
   ]
  },
  {
   "cell_type": "code",
   "execution_count": 127,
   "id": "f79594bd",
   "metadata": {
    "ExecuteTime": {
     "end_time": "2022-05-21T21:09:40.640978Z",
     "start_time": "2022-05-21T21:09:40.376990Z"
    }
   },
   "outputs": [
    {
     "data": {
      "image/png": "[encoded data removed]",
      "text/plain": [
       "<Figure size 432x288 with 1 Axes>"
      ]
     },
     "metadata": {
      "needs_background": "light"
     },
     "output_type": "display_data"
    }
   ],
   "source": [
    "plt.scatter(df['total_rooms'], df['bedrooms'])\n",
    "plt.xlabel('Total rooms')\n",
    "plt.ylabel('Total Bedrooms')\n",
    "plt.show()"
   ]
  },
  {
   "cell_type": "code",
   "execution_count": 128,
   "id": "6be6e2c1",
   "metadata": {
    "ExecuteTime": {
     "end_time": "2022-05-21T21:09:40.896986Z",
     "start_time": "2022-05-21T21:09:40.640978Z"
    }
   },
   "outputs": [
    {
     "data": {
      "image/png": "[encoded data removed]",
      "text/plain": [
       "<Figure size 432x288 with 1 Axes>"
      ]
     },
     "metadata": {
      "needs_background": "light"
     },
     "output_type": "display_data"
    }
   ],
   "source": [
    "plt.scatter(df['population'], df['bedrooms'])\n",
    "plt.xlabel('Population')\n",
    "plt.ylabel('Total Bedrooms')\n",
    "plt.show()"
   ]
  },
  {
   "cell_type": "code",
   "execution_count": 129,
   "id": "9f268def",
   "metadata": {
    "ExecuteTime": {
     "end_time": "2022-05-21T21:09:41.085553Z",
     "start_time": "2022-05-21T21:09:40.896986Z"
    }
   },
   "outputs": [
    {
     "data": {
      "image/png": "[encoded data removed]",
      "text/plain": [
       "<Figure size 432x288 with 1 Axes>"
      ]
     },
     "metadata": {
      "needs_background": "light"
     },
     "output_type": "display_data"
    }
   ],
   "source": [
    "plt.scatter(df['households'], df['bedrooms'])\n",
    "plt.xlabel('Household')\n",
    "plt.ylabel('Total Bedrooms')\n",
    "plt.show()"
   ]
  },
  {
   "cell_type": "code",
   "execution_count": 130,
   "id": "9c6b01ca",
   "metadata": {
    "ExecuteTime": {
     "end_time": "2022-05-21T21:09:41.109600Z",
     "start_time": "2022-05-21T21:09:41.085553Z"
    }
   },
   "outputs": [
    {
     "data": {
      "text/plain": [
       "(20640, 5)"
      ]
     },
     "execution_count": 130,
     "metadata": {},
     "output_type": "execute_result"
    }
   ],
   "source": [
    "df_np = df.to_numpy()\n",
    "df_np.shape"
   ]
  },
  {
   "cell_type": "code",
   "execution_count": 131,
   "id": "6228902e",
   "metadata": {
    "ExecuteTime": {
     "end_time": "2022-05-21T21:09:41.313386Z",
     "start_time": "2022-05-21T21:09:41.289389Z"
    }
   },
   "outputs": [
    {
     "data": {
      "text/plain": [
       "((20640, 3), (20640,))"
      ]
     },
     "execution_count": 131,
     "metadata": {},
     "output_type": "execute_result"
    }
   ],
   "source": [
    "x_train, y_train = df_np[:, :3], df_np[:, -1]\n",
    "x_train.shape, y_train.shape"
   ]
  },
  {
   "cell_type": "code",
   "execution_count": 132,
   "id": "63ba00d7",
   "metadata": {
    "ExecuteTime": {
     "end_time": "2022-05-21T21:09:41.894245Z",
     "start_time": "2022-05-21T21:09:41.870264Z"
    }
   },
   "outputs": [
    {
     "data": {
      "text/plain": [
       "array([[880.0, 322.0, 126.0],\n",
       "       [7099.0, 2401.0, 1138.0],\n",
       "       [1467.0, 496.0, 177.0],\n",
       "       ...,\n",
       "       [2254.0, 1007.0, 433.0],\n",
       "       [1860.0, 741.0, 349.0],\n",
       "       [2785.0, 1387.0, 530.0]], dtype=object)"
      ]
     },
     "execution_count": 132,
     "metadata": {},
     "output_type": "execute_result"
    }
   ],
   "source": [
    "x_train"
   ]
  },
  {
   "cell_type": "code",
   "execution_count": null,
   "id": "c3a824d7",
   "metadata": {},
   "outputs": [],
   "source": []
  },
  {
   "cell_type": "code",
   "execution_count": null,
   "id": "0df8c2fc",
   "metadata": {},
   "outputs": [],
   "source": []
  }
 ],
 "metadata": {
  "kernelspec": {
   "display_name": "Python 3 (ipykernel)",
   "language": "python",
   "name": "python3"
  },
  "language_info": {
   "codemirror_mode": {
    "name": "ipython",
    "version": 3
   },
   "file_extension": ".py",
   "mimetype": "text/x-python",
   "name": "python",
   "nbconvert_exporter": "python",
   "pygments_lexer": "ipython3",
   "version": "3.9.7"
  }
 },
 "nbformat": 4,
 "nbformat_minor": 5
}
